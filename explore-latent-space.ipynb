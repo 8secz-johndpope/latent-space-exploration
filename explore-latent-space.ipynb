{
  "nbformat": 4,
  "nbformat_minor": 0,
  "metadata": {
    "accelerator": "GPU",
    "anaconda-cloud": {},
    "colab": {
      "name": "explore-latent-space.ipynb",
      "provenance": [],
      "collapsed_sections": []
    },
    "kernelspec": {
      "display_name": "Python 3.7 (tensorflow)",
      "language": "python",
      "name": "tensorflow"
    },
    "language_info": {
      "codemirror_mode": {
        "name": "ipython",
        "version": 3
      },
      "file_extension": ".py",
      "mimetype": "text/x-python",
      "name": "python",
      "nbconvert_exporter": "python",
      "pygments_lexer": "ipython3",
      "version": "3.7.5"
    }
  },
  "cells": [
    {
      "cell_type": "markdown",
      "metadata": {
        "colab_type": "text",
        "id": "L2fejML3tCfv"
      },
      "source": [
        "<a href=\"https://colab.research.google.com/github/tomshannon1/explore-latent-space.ipynb\" target=\"_parent\"><img src=\"https://colab.research.google.com/assets/colab-badge.svg\" alt=\"Open In Colab\"/></a>"
      ]
    },
    {
      "cell_type": "markdown",
      "metadata": {
        "colab_type": "text",
        "id": "lzuSQ-tT0caN"
      },
      "source": [
        "# Exploring Latent Space of GAN Models\n",
        "\n",
        "This notebook allows you to explore the latent space of GAN models that you have to trained. Through this process, you will be able find the directions of traversal to generate images with your desired traits.  \n",
        "\n",
        "A GPU is required to run this so it's easiest to run on Google Colab with GPU or TPU enabled. To do this, click on *Runtime* and then *Change runtime type* to set your instance to GPU or TPU.\n"
      ]
    },
    {
      "cell_type": "code",
      "metadata": {
        "colab_type": "code",
        "id": "w2dEcHb9tCf6",
        "colab": {}
      },
      "source": [
        "# Mount your Goolge Drive to your Google Colab instance\n",
        "%tensorflow_version 1.x\n",
        "from google.colab import drive\n",
        "drive.mount('/content/drive', force_remount=True)"
      ],
      "execution_count": null,
      "outputs": []
    },
    {
      "cell_type": "markdown",
      "metadata": {
        "colab_type": "text",
        "id": "icRPLmPKtCf_"
      },
      "source": [
        "Next, clone StyleGAN2 from GitHub."
      ]
    },
    {
      "cell_type": "code",
      "metadata": {
        "colab_type": "code",
        "id": "tB0TryzptCf_",
        "colab": {}
      },
      "source": [
        "!git clone https://github.com/NVlabs/stylegan2.git"
      ],
      "execution_count": null,
      "outputs": []
    },
    {
      "cell_type": "markdown",
      "metadata": {
        "colab_type": "text",
        "id": "D92Md-Hw3eVA"
      },
      "source": [
        "# Run StyleGAN2 From Python Code\n",
        "\n",
        "Add the StyleGAN folder to the Python path to import ddnlib - which is a library required for importing your StyleGAN models. The code below is based on code from NVidia. This will generate images from your model."
      ]
    },
    {
      "cell_type": "code",
      "metadata": {
        "colab_type": "code",
        "id": "UgMm1sSutCgH",
        "colab": {}
      },
      "source": [
        "import sys\n",
        "sys.path.insert(0, \"/content/stylegan2\")\n",
        "import dnnlib"
      ],
      "execution_count": 4,
      "outputs": []
    },
    {
      "cell_type": "code",
      "metadata": {
        "colab_type": "code",
        "id": "yZcFAjaz3mw1",
        "colab": {}
      },
      "source": [
        "# Copyright (c) 2019, NVIDIA Corporation. All rights reserved.\n",
        "#\n",
        "# This work is made available under the Nvidia Source Code License-NC.\n",
        "# To view a copy of this license, visit\n",
        "# https://nvlabs.github.io/stylegan2/license.html\n",
        "\n",
        "import argparse\n",
        "import numpy as np\n",
        "import PIL.Image\n",
        "import dnnlib\n",
        "import dnnlib.tflib as tflib\n",
        "import re\n",
        "import sys\n",
        "\n",
        "import pretrained_networks\n",
        "\n",
        "#----------------------------------------------------------------------------\n",
        "\n",
        "def expand_seed(seeds, vector_size):\n",
        "  result = []\n",
        "\n",
        "  for seed in seeds:\n",
        "    rnd = np.random.RandomState(seed)\n",
        "    result.append( rnd.randn(1, vector_size) ) \n",
        "  return result\n",
        "\n",
        "def generate_images(Gs, seeds, truncation_psi, prefix):\n",
        "    noise_vars = [var for name, var in Gs.components.synthesis.vars.items() if name.startswith('noise')]\n",
        "\n",
        "    Gs_kwargs = dnnlib.EasyDict()\n",
        "    Gs_kwargs.output_transform = dict(func=tflib.convert_images_to_uint8, nchw_to_nhwc=True)\n",
        "    Gs_kwargs.randomize_noise = False\n",
        "    if truncation_psi is not None:\n",
        "        Gs_kwargs.truncation_psi = truncation_psi\n",
        "\n",
        "    for seed_idx, seed in enumerate(seeds):\n",
        "        print('Generating image for seed %d/%d ...' % (seed_idx, len(seeds)))\n",
        "        rnd = np.random.RandomState(0)\n",
        "        tflib.set_vars({var: rnd.randn(*var.shape.as_list()) for var in noise_vars}) # [height, width]\n",
        "        images = Gs.run(seed, None, **Gs_kwargs) # [minibatch, height, width, channel]\n",
        "        path = f\"/content/{prefix}-{seed_idx+1}.png\"\n",
        "        PIL.Image.fromarray(images[0], 'RGB').save(path)\n"
      ],
      "execution_count": 5,
      "outputs": []
    },
    {
      "cell_type": "code",
      "metadata": {
        "colab_type": "code",
        "id": "UnxjKdsJKXE5",
        "colab": {}
      },
      "source": [
        "sc = dnnlib.SubmitConfig()\n",
        "sc.num_gpus = 1\n",
        "sc.submit_target = dnnlib.SubmitTarget.LOCAL\n",
        "sc.local.do_not_copy_source_files = True\n",
        "sc.run_dir_root = \"/content/drive/My Drive/projects/stylegan2\"\n",
        "sc.run_desc = 'generate-images'\n",
        "\n",
        "# Load your Generator model\n",
        "network_pkl = '/content/drive/My Drive/network-snapshot-000722.pkl'\n",
        "print('Loading networks from \"%s\"...' % network_pkl)\n",
        "_G, _D, Gs = pretrained_networks.load_networks(network_pkl)\n",
        "vector_size = Gs.input_shape[1:][0]"
      ],
      "execution_count": null,
      "outputs": []
    },
    {
      "cell_type": "markdown",
      "metadata": {
        "colab_type": "text",
        "id": "3Mma51xe6b7k"
      },
      "source": [
        "# Explore Many GANs\n",
        "\n",
        "The first thing you can do is generate many different GAN's randomly. From this you can find different traits that you are looking for. "
      ]
    },
    {
      "cell_type": "code",
      "metadata": {
        "colab_type": "code",
        "id": "BRdAnScjJ6kO",
        "colab": {}
      },
      "source": [
        "import cv2 \n",
        "from google.colab.patches import cv2_imshow\n",
        "\n",
        "seed = 9200\n",
        "\n",
        "for i in range(100):\n",
        "  z = seed + i\n",
        "  print(z)\n",
        "  seeds = expand_seed([z], vector_size)\n",
        "  generate_images(Gs, seeds, 0.5, \"image\")\n",
        "  img = cv2.imread('/content/image-1.png')   \n",
        "  cv2_imshow(img) "
      ],
      "execution_count": null,
      "outputs": []
    },
    {
      "cell_type": "markdown",
      "metadata": {
        "colab_type": "text",
        "id": "mujfKN9nRA4E"
      },
      "source": [
        "# Modify Single GAN\n",
        "\n",
        "Given one of the seed values, you can choose one to look at individually. We can modify the distribution by tweaking the truncation_psi. This effectively truncates the z vector by resampling the values with magnitude above a chosen threshold, which leads to improvement in individual sample quality at the cost of reduction in overall sample variety."
      ]
    },
    {
      "cell_type": "code",
      "metadata": {
        "colab_type": "code",
        "id": "4-J1eTJwRlY8",
        "colab": {}
      },
      "source": [
        "import cv2 \n",
        "from google.colab.patches import cv2_imshow\n",
        "import numpy as np\n",
        "\n",
        "seeds = expand_seed([9208], vector_size)\n",
        "\n",
        "for i in np.linspace(0.0, 1.0, 20):\n",
        "  generate_images(Gs, seeds, i, \"image\")\n",
        "  img = cv2.imread('/content/image-1.png')   \n",
        "  cv2_imshow(img) "
      ],
      "execution_count": null,
      "outputs": []
    },
    {
      "cell_type": "markdown",
      "metadata": {
        "colab_type": "text",
        "id": "fhupoEodF9gS"
      },
      "source": [
        "# Explore Elements of Vector\n",
        "\n",
        "This section of code lets you explore sections of the latent vector for a given seen by increments to look for desired traits. For more fine grained transitions you can decrease the increment. This distribution of images will later be compiled to an animation."
      ]
    },
    {
      "cell_type": "code",
      "metadata": {
        "colab_type": "code",
        "id": "nJP9Mff_OQQ9",
        "colab": {}
      },
      "source": [
        "import cv2 \n",
        "from google.colab.patches import cv2_imshow\n",
        "\n",
        "i = 0\n",
        "\n",
        "while i<500:\n",
        "  seeds = expand_seed([9208], vector_size)\n",
        "  seeds[0][0][i:i+10] = -2\n",
        "  print(i)\n",
        "  generate_images(Gs, seeds, 0.5, \"image\")\n",
        "  img = cv2.imread('/content/image-1.png')  \n",
        "  cv2.imwrite('/content/image-%d.png' % i, img) \n",
        "  cv2_imshow(img) \n",
        "  i+=10"
      ],
      "execution_count": null,
      "outputs": []
    },
    {
      "cell_type": "code",
      "metadata": {
        "id": "CQckbToh_CZG",
        "colab_type": "code",
        "colab": {}
      },
      "source": [
        "# This is used to get the filenames of the images we just produced above\n",
        "from os import listdir\n",
        "from os.path import isfile, join\n",
        "mypath = \"/content\"\n",
        "onlyfiles = [f for f in listdir(mypath) if isfile(join(mypath, f))]"
      ],
      "execution_count": null,
      "outputs": []
    },
    {
      "cell_type": "code",
      "metadata": {
        "id": "vYARKpQ6-6gk",
        "colab_type": "code",
        "colab": {}
      },
      "source": [
        "# This will compile these images into an animated GIF showing how we moved through the latent space\n",
        "# Change the filename to your desired name and it will be saved in your Google Drive\n",
        "import imageio\n",
        "images = []\n",
        "\n",
        "for filename in onlyfiles:\n",
        "    images.append(imageio.imread(mypath + \"/\" + filename))\n",
        "imageio.mimsave('/content/drive/My Drive/seed-9208.gif', images)"
      ],
      "execution_count": 50,
      "outputs": []
    }
  ]
}